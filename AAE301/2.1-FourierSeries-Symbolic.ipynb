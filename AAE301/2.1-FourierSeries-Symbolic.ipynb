{
 "cells": [
  {
   "cell_type": "code",
   "execution_count": null,
   "id": "6402b8eb",
   "metadata": {},
   "outputs": [
    {
     "name": "stdout",
     "output_type": "stream",
     "text": [
      "Note: you may need to restart the kernel to use updated packages.\n"
     ]
    }
   ],
   "source": [
    "%pip install -q matplotlib sympy numpy"
   ]
  },
  {
   "cell_type": "code",
   "execution_count": 3,
   "id": "8804efd3",
   "metadata": {},
   "outputs": [],
   "source": [
    "import numpy as np\n",
    "import sympy"
   ]
  },
  {
   "cell_type": "code",
   "execution_count": 5,
   "id": "colonial-insider",
   "metadata": {},
   "outputs": [],
   "source": [
    "def L2_inner_product(f, g, tau, limit1, limit2):\n",
    "    # you can define t here to not rely on a global definition\n",
    "    t = sympy.symbols('t', real=True)\n",
    "    return (sympy.integrate(f*sympy.conjugate(g), (t, limit1, limit2))/tau).simplify()\n",
    "\n",
    "def L2_norm(f, tau, limit1, limit2):\n",
    "    return sympy.sqrt(L2_inner_product(f, f, tau, limit1, limit2))\n",
    "\n",
    "def L2_coefficient(f, g, tau, limit1, limit2):\n",
    "    return (L2_inner_product(f, g, tau, limit1, limit2)/L2_norm(g, tau, limit1, limit2)**2).simplify()"
   ]
  },
  {
   "cell_type": "markdown",
   "id": "closing-tenant",
   "metadata": {},
   "source": [
    "# Function to Approximate"
   ]
  },
  {
   "cell_type": "code",
   "execution_count": null,
   "id": "reserved-timothy",
   "metadata": {},
   "outputs": [
    {
     "data": {
      "image/png": "[encoded data removed]",
      "text/plain": [
       "<Figure size 640x480 with 1 Axes>"
      ]
     },
     "metadata": {},
     "output_type": "display_data"
    },
    {
     "data": {
      "text/plain": [
       "<sympy.plotting.backends.matplotlibbackend.matplotlib.MatplotlibBackend at 0x243f7a34e10>"
      ]
     },
     "execution_count": 15,
     "metadata": {},
     "output_type": "execute_result"
    }
   ],
   "source": [
    "t = sympy.symbols('t', real=True)\n",
    "f = sympy.Piecewise(\n",
    "    (t + sympy.pi, sympy.And(-sympy.pi <= t, t < 0)),\n",
    "    (t, sympy.And(0 < t, t < sympy.pi))\n",
    ")\n",
    "\n",
    "sympy.plot(f, (t, 0, 2*sympy.pi))"
   ]
  },
  {
   "cell_type": "markdown",
   "id": "stretch-miracle",
   "metadata": {},
   "source": [
    "# Fourier Series using $\\{e^{-ikt}\\}$, $k=[-\\infty, \\dots, \\infty]$ as Basis"
   ]
  },
  {
   "cell_type": "code",
   "execution_count": 14,
   "id": "utility-level",
   "metadata": {},
   "outputs": [
    {
     "data": {
      "text/latex": [
       "$\\displaystyle \\begin{cases} \\frac{\\sqrt{3}}{8} - \\frac{i}{8} & \\text{for}\\: k = -6 \\vee k = -2 \\\\\\frac{\\sqrt{3}}{4} - \\frac{i}{4} & \\text{for}\\: k = -4 \\\\\\frac{\\sqrt{3}}{8} + \\frac{i}{8} & \\text{for}\\: k = 2 \\vee k = 6 \\\\\\frac{\\sqrt{3}}{4} + \\frac{i}{4} & \\text{for}\\: k = 4 \\\\0 & \\text{otherwise} \\end{cases}$"
      ],
      "text/plain": [
       "Piecewise((sqrt(3)/8 - I/8, Eq(k, -6) | Eq(k, -2)), (sqrt(3)/4 - I/4, Eq(k, -4)), (sqrt(3)/8 + I/8, Eq(k, 2) | Eq(k, 6)), (sqrt(3)/4 + I/4, Eq(k, 4)), (0, True))"
      ]
     },
     "execution_count": 14,
     "metadata": {},
     "output_type": "execute_result"
    }
   ],
   "source": [
    "k = sympy.symbols('k', real=True, integer=True)\n",
    "limit1 = -sympy.pi\n",
    "limit2 = sympy.pi\n",
    "tau = (2 * limit2)\n",
    "w0 = 2*sympy.pi/tau\n",
    "psi_k = sympy.exp(-sympy.I*k*w0*t)\n",
    "\n",
    "ak = L2_coefficient(f, psi_k, tau, limit1, limit2)\n",
    "\n",
    "ak"
   ]
  },
  {
   "cell_type": "code",
   "execution_count": 16,
   "id": "17dc734a-9ee6-422e-9cdf-7b0e7a51c070",
   "metadata": {},
   "outputs": [
    {
     "data": {
      "text/latex": [
       "$\\displaystyle \\frac{4 \\pi^{2}}{3}$"
      ],
      "text/plain": [
       "4*pi**2/3"
      ]
     },
     "execution_count": 16,
     "metadata": {},
     "output_type": "execute_result"
    }
   ],
   "source": [
    "sympy.integrate(f*sympy.conjugate(f), (t, limit1, limit2))/(tau)"
   ]
  },
  {
   "cell_type": "code",
   "execution_count": 9,
   "id": "dfb5d6a5-a1ce-4e70-a711-abd7084e18da",
   "metadata": {},
   "outputs": [
    {
     "data": {
      "text/plain": [
       "np.float64(0.04348026911390171)"
      ]
     },
     "execution_count": 9,
     "metadata": {},
     "output_type": "execute_result"
    }
   ],
   "source": [
    "# creating ak list\n",
    "n = 3\n",
    "ak_list = []\n",
    "for k in range(-n, n+1):\n",
    "    if k == 0:\n",
    "        ak = np.pi/2\n",
    "    elif k % 2 == 0: # even\n",
    "        ak = 0\n",
    "    else:\n",
    "        ak = -2/(np.pi*k**2)\n",
    "    ak_list.append(ak)\n",
    "\n",
    "# compute error in approx p_n(t)\n",
    "norm_f_sq = np.pi**2/3\n",
    "error_norm_sq = norm_f_sq\n",
    "for ak in ak_list:\n",
    "    error_norm_sq = error_norm_sq - np.abs(ak)**2\n",
    "\n",
    "error_norm = np.sqrt(error_norm_sq)\n",
    "error_norm"
   ]
  },
  {
   "cell_type": "code",
   "execution_count": 19,
   "id": "29923832-2fbb-4981-bfb5-0874f6ca8332",
   "metadata": {},
   "outputs": [
    {
     "data": {
      "text/plain": [
       "[-0.0707355302630646,\n",
       " 0,\n",
       " -0.6366197723675814,\n",
       " 1.5707963267948966,\n",
       " -0.6366197723675814,\n",
       " 0,\n",
       " -0.0707355302630646]"
      ]
     },
     "execution_count": 19,
     "metadata": {},
     "output_type": "execute_result"
    }
   ],
   "source": [
    "ak_list"
   ]
  }
 ],
 "metadata": {
  "kernelspec": {
   "display_name": ".venv",
   "language": "python",
   "name": "python3"
  },
  "language_info": {
   "codemirror_mode": {
    "name": "ipython",
    "version": 3
   },
   "file_extension": ".py",
   "mimetype": "text/x-python",
   "name": "python",
   "nbconvert_exporter": "python",
   "pygments_lexer": "ipython3",
   "version": "3.11.9"
  }
 },
 "nbformat": 4,
 "nbformat_minor": 5
}
